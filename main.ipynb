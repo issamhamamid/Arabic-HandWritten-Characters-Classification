{
 "cells": [
  {
   "cell_type": "code",
   "id": "initial_id",
   "metadata": {
    "collapsed": true,
    "ExecuteTime": {
     "end_time": "2024-12-23T18:13:24.330632Z",
     "start_time": "2024-12-23T18:13:23.828728Z"
    }
   },
   "source": "import pandas as pd",
   "outputs": [],
   "execution_count": 1
  },
  {
   "metadata": {
    "ExecuteTime": {
     "end_time": "2024-12-23T18:16:05.838045Z",
     "start_time": "2024-12-23T18:16:05.834720Z"
    }
   },
   "cell_type": "code",
   "source": [
    "import tensorflow as tf\n",
    "from keras import  models , layers\n",
    "import matplotlib.pyplot as plt\n",
    "import keras"
   ],
   "id": "831f213c795af68f",
   "outputs": [],
   "execution_count": 3
  },
  {
   "metadata": {
    "ExecuteTime": {
     "end_time": "2024-12-23T22:42:35.324038Z",
     "start_time": "2024-12-23T22:42:25.059151Z"
    }
   },
   "cell_type": "code",
   "outputs": [
    {
     "name": "stdout",
     "output_type": "stream",
     "text": [
      "\n",
      "Summary of invalid files per directory:\n",
      "7A B: 0 invalid file(s)\n",
      "7A E: 0 invalid file(s)\n",
      "7A I: 0 invalid file(s)\n",
      "7A M: 0 invalid file(s)\n",
      "AlefE: 0 invalid file(s)\n",
      "AlefI: 0 invalid file(s)\n",
      "AYN_B: 0 invalid file(s)\n",
      "AYN_E: 0 invalid file(s)\n",
      "AYN_I: 0 invalid file(s)\n",
      "AYN_M: 0 invalid file(s)\n",
      "B: 0 invalid file(s)\n",
      "BAA B: 0 invalid file(s)\n",
      "BAA E: 0 invalid file(s)\n",
      "BAA M: 0 invalid file(s)\n",
      "Dad_B: 0 invalid file(s)\n",
      "Dad_E: 0 invalid file(s)\n",
      "Dad_M: 0 invalid file(s)\n",
      "dal_I: 0 invalid file(s)\n",
      "dal_m: 0 invalid file(s)\n",
      "dhaa_B: 0 invalid file(s)\n",
      "dhaa_M: 0 invalid file(s)\n",
      "dhal_I: 0 invalid file(s)\n",
      "dhal_M: 0 invalid file(s)\n",
      "E: 0 invalid file(s)\n",
      "Faa_B: 0 invalid file(s)\n",
      "Faa_E: 0 invalid file(s)\n",
      "Faa_M: 0 invalid file(s)\n",
      "GHAYN_B: 0 invalid file(s)\n",
      "GHAYN_E: 0 invalid file(s)\n",
      "GHAYN_i: 0 invalid file(s)\n",
      "GHAYN_M: 0 invalid file(s)\n",
      "HA_B: 0 invalid file(s)\n",
      "HA_E: 0 invalid file(s)\n",
      "HA_M: 0 invalid file(s)\n",
      "I: 0 invalid file(s)\n",
      "JeemB: 0 invalid file(s)\n",
      "JeemE: 0 invalid file(s)\n",
      "JeemM: 0 invalid file(s)\n",
      "Kaf_B: 0 invalid file(s)\n",
      "Kaf_E: 0 invalid file(s)\n",
      "Kaf_M: 0 invalid file(s)\n",
      "LamB: 0 invalid file(s)\n",
      "LamE: 0 invalid file(s)\n",
      "LamI: 0 invalid file(s)\n",
      "LamM: 0 invalid file(s)\n",
      "M: 0 invalid file(s)\n",
      "Meem_B: 0 invalid file(s)\n",
      "Meem_E: 0 invalid file(s)\n",
      "Meem_iso: 0 invalid file(s)\n",
      "Meem_M: 0 invalid file(s)\n",
      "Noon_B: 0 invalid file(s)\n",
      "Noon_E: 0 invalid file(s)\n",
      "Noon_M: 0 invalid file(s)\n",
      "qaf_B: 0 invalid file(s)\n",
      "qaf_E: 0 invalid file(s)\n",
      "qaf_M: 0 invalid file(s)\n",
      "RAAE: 0 invalid file(s)\n",
      "RAAI: 0 invalid file(s)\n",
      "SaadB: 0 invalid file(s)\n",
      "SaadE: 0 invalid file(s)\n",
      "SaadM: 0 invalid file(s)\n",
      "SeenB: 0 invalid file(s)\n",
      "SeenE: 0 invalid file(s)\n",
      "SeenM: 0 invalid file(s)\n",
      "SheenB: 0 invalid file(s)\n",
      "SheenE: 0 invalid file(s)\n",
      "SheenM: 0 invalid file(s)\n",
      "TaaB: 0 invalid file(s)\n",
      "TaaE: 0 invalid file(s)\n",
      "TaaM: 0 invalid file(s)\n",
      "Thaa_B: 0 invalid file(s)\n",
      "Thaa_E: 0 invalid file(s)\n",
      "Thaa_M: 0 invalid file(s)\n",
      "TTAA B: 0 invalid file(s)\n",
      "TTAA E: 0 invalid file(s)\n",
      "TTAA M: 0 invalid file(s)\n",
      "WawE: 0 invalid file(s)\n",
      "WawI: 0 invalid file(s)\n",
      "Yaa_B: 0 invalid file(s)\n",
      "Yaa_E: 0 invalid file(s)\n",
      "Yaa_I: 0 invalid file(s)\n",
      "Yaa_M: 0 invalid file(s)\n",
      "ZAYE: 0 invalid file(s)\n",
      "ZAYI: 0 invalid file(s)\n",
      "\n",
      "Total invalid files: 0\n",
      "\n",
      "Check complete.\n"
     ]
    }
   ],
   "execution_count": 15,
   "source": [
    "import os\n",
    "from PIL import Image\n",
    "\n",
    "def check_images_in_directories(parent_dir):\n",
    "    results = {}  # Dictionary to store results for each directory\n",
    "    total_invalid_count = 0  # Total count of invalid files\n",
    "\n",
    "    for subdir in os.listdir(parent_dir):\n",
    "        subdir_path = os.path.join(parent_dir, subdir)\n",
    "\n",
    "        # Skip files, only process directories\n",
    "        if os.path.isdir(subdir_path):\n",
    "            invalid_count = 0  # Count of invalid files in the current directory\n",
    "\n",
    "            for file_name in os.listdir(subdir_path):\n",
    "                file_path = os.path.join(subdir_path, file_name)\n",
    "                \n",
    "                # Check if the file is an image\n",
    "                try:\n",
    "                    with Image.open(file_path) as img:\n",
    "                        # Check image dimensions\n",
    "                        if img.size != (128, 128):\n",
    "                            print(f\"Invalid size in {file_path}: {img.size}\")\n",
    "                            invalid_count += 1\n",
    "                except Exception:\n",
    "                    # File is not a valid image\n",
    "                    print(f\"Non-image file found: {file_path}\")\n",
    "                    invalid_count += 1\n",
    "\n",
    "            # Store the result for the current directory\n",
    "            results[subdir] = invalid_count\n",
    "            total_invalid_count += invalid_count\n",
    "\n",
    "    # Print summary\n",
    "    print(\"\\nSummary of invalid files per directory:\")\n",
    "    for directory, count in results.items():\n",
    "        print(f\"{directory}: {count} invalid file(s)\")\n",
    "    \n",
    "    print(f\"\\nTotal invalid files: {total_invalid_count}\")\n",
    "    print(\"\\nCheck complete.\")\n",
    "\n",
    "# Usage example\n",
    "new_parent_dir = \"DATA MLA FINALE AFTER\"\n",
    "check_images_in_directories(new_parent_dir)\n"
   ],
   "id": "c3683594fe13dac7"
  },
  {
   "metadata": {
    "ExecuteTime": {
     "end_time": "2024-12-23T22:42:14.898144Z",
     "start_time": "2024-12-23T22:42:00.498757Z"
    }
   },
   "cell_type": "code",
   "source": [
    "import os\n",
    "from PIL import Image\n",
    "\n",
    "def process_directories(parent_dir):\n",
    "    for subdir in os.listdir(parent_dir):\n",
    "        subdir_path = os.path.join(parent_dir, subdir)\n",
    "\n",
    "        # Skip files, only process directories\n",
    "        if os.path.isdir(subdir_path):\n",
    "            for file_name in os.listdir(subdir_path):\n",
    "                file_path = os.path.join(subdir_path, file_name)\n",
    "\n",
    "                # Ensure the entry is a file before processing\n",
    "                if os.path.isfile(file_path):\n",
    "                    try:\n",
    "                        # Check if the file is an image\n",
    "                        with Image.open(file_path) as img:\n",
    "                            # Check image dimensions\n",
    "                            if img.size != (128, 128):\n",
    "                                print(f\"Resizing image: {file_path} (Current size: {img.size})\")\n",
    "                                img = img.resize((128, 128))\n",
    "                                img.save(file_path)  # Overwrite the file with the resized image\n",
    "                    except Exception:\n",
    "                        # File is not a valid image; remove it\n",
    "                        print(f\"Removing non-image file: {file_path}\")\n",
    "                        try:\n",
    "                            os.remove(file_path)\n",
    "                        except PermissionError:\n",
    "                            print(f\"Permission denied: Unable to remove {file_path}\")\n",
    "\n",
    "    print(\"\\nProcessing complete. All invalid files handled.\")\n",
    "\n",
    "# Usage example\n",
    "new_parent_dir = \"DATA MLA FINALE AFTER\"\n",
    "process_directories(new_parent_dir)"
   ],
   "id": "ef573f746cd5c51b",
   "outputs": [
    {
     "name": "stdout",
     "output_type": "stream",
     "text": [
      "\n",
      "Processing complete. All invalid files handled.\n"
     ]
    }
   ],
   "execution_count": 14
  },
  {
   "metadata": {
    "ExecuteTime": {
     "end_time": "2024-12-23T22:51:27.183708Z",
     "start_time": "2024-12-23T22:48:53.687875Z"
    }
   },
   "cell_type": "code",
   "source": [
    "import os\n",
    "from PIL import Image, ImageOps\n",
    "\n",
    "def process_and_resize_images(parent_dir, output_dir):\n",
    "    # Ensure the output directory exists\n",
    "    os.makedirs(output_dir, exist_ok=True)\n",
    "\n",
    "    for subdir in os.listdir(parent_dir):\n",
    "        subdir_path = os.path.join(parent_dir, subdir)\n",
    "\n",
    "        # Skip files, only process directories\n",
    "        if os.path.isdir(subdir_path):\n",
    "            for file_name in os.listdir(subdir_path):\n",
    "                file_path = os.path.join(subdir_path, file_name)\n",
    "\n",
    "                # Ensure the entry is a file before processing\n",
    "                if os.path.isfile(file_path):\n",
    "                    try:\n",
    "                        # Check if the file is an image\n",
    "                        with Image.open(file_path) as img:\n",
    "                            # Identify the bounding box of the non-white content\n",
    "                            bbox = ImageOps.invert(img.convert(\"L\")).getbbox()\n",
    "\n",
    "                            if bbox:\n",
    "                                # Crop the image to the non-white content\n",
    "                                cropped_image = img.crop(bbox)\n",
    "\n",
    "                                # Create a new white background and paste the cropped image at the center\n",
    "                                new_size = (128, 128)\n",
    "                                centered_image = Image.new(\"RGB\", new_size, \"white\")\n",
    "                                centered_image.paste(\n",
    "                                    cropped_image,\n",
    "                                    ((new_size[0] - cropped_image.width) // 2, (new_size[1] - cropped_image.height) // 2)\n",
    "                                )\n",
    "                                \n",
    "                                # Define the output path\n",
    "                                output_path = os.path.join(output_dir, subdir, file_name)\n",
    "                                os.makedirs(os.path.dirname(output_path), exist_ok=True)\n",
    "                                \n",
    "                                # Save the result in the output directory\n",
    "                                centered_image.save(output_path)\n",
    "\n",
    "                    except Exception as e:\n",
    "                        print(f\"Error processing {file_path}: {e}\")\n",
    "\n",
    "    print(\"\\nProcessing complete. All images have been resized and saved.\")\n",
    "\n",
    "# Usage example\n",
    "new_parent_dir = 'DATA MLA FINALE AFTER'  # e.g., 'B'\n",
    "output_parent_dir = 'TEST'  # e.g., 'B2'\n",
    "process_and_resize_images(new_parent_dir, output_parent_dir)\n"
   ],
   "id": "74883136a0669b02",
   "outputs": [
    {
     "name": "stdout",
     "output_type": "stream",
     "text": [
      "\n",
      "Processing complete. All images have been resized and saved.\n"
     ]
    }
   ],
   "execution_count": 16
  },
  {
   "metadata": {
    "ExecuteTime": {
     "end_time": "2024-12-23T23:00:31.849388Z",
     "start_time": "2024-12-23T23:00:31.845965Z"
    }
   },
   "cell_type": "code",
   "source": [
    "BATCH_SIZE = 32\n",
    "IMAGE_SIZE = 256\n",
    "CHANNELS=3\n",
    "EPOCHS=50"
   ],
   "id": "2104fe665c6b02ab",
   "outputs": [],
   "execution_count": 18
  },
  {
   "metadata": {
    "ExecuteTime": {
     "end_time": "2024-12-23T23:36:21.475135Z",
     "start_time": "2024-12-23T23:36:18.784828Z"
    }
   },
   "cell_type": "code",
   "source": [
    "data = keras.preprocessing.image_dataset_from_directory(\n",
    "    \"CLEANED_IMAGES\",\n",
    "    seed=123,\n",
    "    shuffle=True,\n",
    "    image_size=(IMAGE_SIZE, IMAGE_SIZE),\n",
    "    batch_size=BATCH_SIZE,\n",
    ")"
   ],
   "id": "ffb6314af76436f",
   "outputs": [
    {
     "name": "stdout",
     "output_type": "stream",
     "text": [
      "Found 86378 files belonging to 84 classes.\n"
     ]
    }
   ],
   "execution_count": 40
  },
  {
   "metadata": {
    "ExecuteTime": {
     "end_time": "2024-12-23T23:40:54.112880Z",
     "start_time": "2024-12-23T23:40:54.109780Z"
    }
   },
   "cell_type": "code",
   "source": "class_names = data.class_names",
   "id": "d10f0d2cce489b21",
   "outputs": [],
   "execution_count": 45
  },
  {
   "metadata": {
    "ExecuteTime": {
     "end_time": "2024-12-23T23:41:41.476744Z",
     "start_time": "2024-12-23T23:41:41.407751Z"
    }
   },
   "cell_type": "code",
   "source": [
    "plt.figure(figsize=(10, 10))\n",
    "for image_batch, labels_batch in data.take(1):\n",
    "    for i in range(1):\n",
    "        ax = plt.subplot(3, 4, i + 1)\n",
    "        plt.imshow(image_batch[i].numpy().astype(\"uint8\"))\n",
    "        plt.title(class_names[labels_batch[i]])\n",
    "        plt.axis(\"off\")"
   ],
   "id": "30afe58f508bec57",
   "outputs": [
    {
     "data": {
      "text/plain": [
       "<Figure size 1000x1000 with 1 Axes>"
      ],
      "image/png": "[encoded data removed]"
     },
     "metadata": {},
     "output_type": "display_data"
    }
   ],
   "execution_count": 56
  },
  {
   "metadata": {
    "ExecuteTime": {
     "end_time": "2024-12-23T23:41:39.007704Z",
     "start_time": "2024-12-23T23:41:39.004695Z"
    }
   },
   "cell_type": "code",
   "source": "",
   "id": "3eda18b4268f2232",
   "outputs": [],
   "execution_count": null
  }
 ],
 "metadata": {
  "kernelspec": {
   "display_name": "Python 3",
   "language": "python",
   "name": "python3"
  },
  "language_info": {
   "codemirror_mode": {
    "name": "ipython",
    "version": 2
   },
   "file_extension": ".py",
   "mimetype": "text/x-python",
   "name": "python",
   "nbconvert_exporter": "python",
   "pygments_lexer": "ipython2",
   "version": "2.7.6"
  }
 },
 "nbformat": 4,
 "nbformat_minor": 5
}
