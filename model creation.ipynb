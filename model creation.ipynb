{
 "metadata": {
  "kernelspec": {
   "language": "python",
   "display_name": "Python 3",
   "name": "python3"
  },
  "language_info": {
   "name": "python",
   "version": "3.10.12",
   "mimetype": "text/x-python",
   "codemirror_mode": {
    "name": "ipython",
    "version": 3
   },
   "pygments_lexer": "ipython3",
   "nbconvert_exporter": "python",
   "file_extension": ".py"
  },
  "kaggle": {
   "accelerator": "nvidiaTeslaT4",
   "dataSources": [],
   "dockerImageVersionId": 30823,
   "isInternetEnabled": true,
   "language": "python",
   "sourceType": "notebook",
   "isGpuEnabled": true
  }
 },
 "nbformat_minor": 4,
 "nbformat": 4,
 "cells": [
  {
   "cell_type": "code",
   "source": "import tensorflow as tf\n\n# Check if GPU is available\nprint(\"Num GPUs Available: \", len(tf.config.list_physical_devices('GPU')))",
   "metadata": {
    "trusted": true,
    "execution": {
     "iopub.status.busy": "2024-12-26T00:52:29.650236Z",
     "iopub.execute_input": "2024-12-26T00:52:29.650620Z",
     "iopub.status.idle": "2024-12-26T00:52:37.946195Z",
     "shell.execute_reply.started": "2024-12-26T00:52:29.650582Z",
     "shell.execute_reply": "2024-12-26T00:52:37.945240Z"
    }
   },
   "outputs": [
    {
     "name": "stdout",
     "text": "Num GPUs Available:  2\n",
     "output_type": "stream"
    }
   ],
   "execution_count": 1
  },
  {
   "cell_type": "code",
   "source": "BATCH_SIZE = 1\nIMAGE_SIZE = 128\nCHANNELS=3\nEPOCHS=50",
   "metadata": {
    "trusted": true,
    "execution": {
     "iopub.status.busy": "2024-12-26T02:11:38.848505Z",
     "iopub.execute_input": "2024-12-26T02:11:38.849137Z",
     "iopub.status.idle": "2024-12-26T02:11:38.853242Z",
     "shell.execute_reply.started": "2024-12-26T02:11:38.849099Z",
     "shell.execute_reply": "2024-12-26T02:11:38.852154Z"
    }
   },
   "outputs": [],
   "execution_count": 3
  },
  {
   "cell_type": "code",
   "source": "import tensorflow as tf\nfrom keras import  models , layers\nimport matplotlib.pyplot as plt\nimport keras",
   "metadata": {
    "trusted": true,
    "execution": {
     "iopub.status.busy": "2024-12-26T02:12:53.617080Z",
     "iopub.execute_input": "2024-12-26T02:12:53.617457Z",
     "iopub.status.idle": "2024-12-26T02:12:53.621858Z",
     "shell.execute_reply.started": "2024-12-26T02:12:53.617429Z",
     "shell.execute_reply": "2024-12-26T02:12:53.620783Z"
    }
   },
   "outputs": [],
   "execution_count": 4
  },
  {
   "cell_type": "code",
   "source": "data = keras.preprocessing.image_dataset_from_directory(\n    \"CLEANED_IMAGES\",\n    seed=123,\n    shuffle=True,\n    image_size=(IMAGE_SIZE, IMAGE_SIZE),\n    batch_size=BATCH_SIZE,\n)",
   "metadata": {
    "trusted": true,
    "execution": {
     "iopub.status.busy": "2024-12-26T02:12:54.726819Z",
     "iopub.execute_input": "2024-12-26T02:12:54.727173Z",
     "iopub.status.idle": "2024-12-26T02:13:05.239410Z",
     "shell.execute_reply.started": "2024-12-26T02:12:54.727144Z",
     "shell.execute_reply": "2024-12-26T02:13:05.238723Z"
    }
   },
   "outputs": [
    {
     "name": "stdout",
     "text": "Found 86378 files belonging to 84 classes.\n",
     "output_type": "stream"
    }
   ],
   "execution_count": 5
  },
  {
   "cell_type": "code",
   "source": "def train_test_split(ds, train_split=0.8, val_split=0.1, test_split=0.1, shuffle=True, shuffle_size=10000):\n    assert (train_split + test_split + val_split) == 1\n    \n    ds_size = len(ds)\n    \n    if shuffle:\n        ds = ds.shuffle(shuffle_size, seed=12)\n    \n    train_size = int(train_split * ds_size)\n    val_size = int(val_split * ds_size)\n    \n    train_ds = ds.take(train_size)    \n    val_ds = ds.skip(train_size).take(val_size)\n    test_ds = ds.skip(train_size).skip(val_size)\n    \n    return train_ds, val_ds, test_ds",
   "metadata": {
    "trusted": true,
    "execution": {
     "iopub.status.busy": "2024-12-26T02:13:16.266645Z",
     "iopub.execute_input": "2024-12-26T02:13:16.267014Z",
     "iopub.status.idle": "2024-12-26T02:13:16.272514Z",
     "shell.execute_reply.started": "2024-12-26T02:13:16.266983Z",
     "shell.execute_reply": "2024-12-26T02:13:16.271495Z"
    }
   },
   "outputs": [],
   "execution_count": 6
  },
  {
   "cell_type": "code",
   "source": "train , validation , test = train_test_split(data)",
   "metadata": {
    "trusted": true,
    "execution": {
     "iopub.status.busy": "2024-12-26T02:13:18.339219Z",
     "iopub.execute_input": "2024-12-26T02:13:18.339581Z",
     "iopub.status.idle": "2024-12-26T02:13:18.355410Z",
     "shell.execute_reply.started": "2024-12-26T02:13:18.339550Z",
     "shell.execute_reply": "2024-12-26T02:13:18.354692Z"
    }
   },
   "outputs": [],
   "execution_count": 7
  },
  {
   "cell_type": "code",
   "source": "len(validation)\n",
   "metadata": {
    "trusted": true,
    "execution": {
     "iopub.status.busy": "2024-12-26T02:13:19.985965Z",
     "iopub.execute_input": "2024-12-26T02:13:19.986308Z",
     "iopub.status.idle": "2024-12-26T02:13:19.992809Z",
     "shell.execute_reply.started": "2024-12-26T02:13:19.986278Z",
     "shell.execute_reply": "2024-12-26T02:13:19.991894Z"
    }
   },
   "outputs": [
    {
     "execution_count": 8,
     "output_type": "execute_result",
     "data": {
      "text/plain": "8637"
     },
     "metadata": {}
    }
   ],
   "execution_count": 8
  },
  {
   "cell_type": "code",
   "source": "train_ = train.cache().shuffle(1000).prefetch(buffer_size=tf.data.AUTOTUNE)\nvalidation = validation.cache().shuffle(1000).prefetch(buffer_size=tf.data.AUTOTUNE)\ntest = test.cache().shuffle(1000).prefetch(buffer_size=tf.data.AUTOTUNE)\n",
   "metadata": {
    "trusted": true,
    "execution": {
     "iopub.status.busy": "2024-12-26T02:13:21.753168Z",
     "iopub.execute_input": "2024-12-26T02:13:21.753487Z",
     "iopub.status.idle": "2024-12-26T02:13:21.772158Z",
     "shell.execute_reply.started": "2024-12-26T02:13:21.753461Z",
     "shell.execute_reply": "2024-12-26T02:13:21.771445Z"
    }
   },
   "outputs": [],
   "execution_count": 9
  },
  {
   "cell_type": "code",
   "source": "resize_and_rescale = keras.Sequential([\n  layers.Resizing(IMAGE_SIZE, IMAGE_SIZE),\n  layers.Rescaling(1./255),\n])",
   "metadata": {
    "trusted": true,
    "execution": {
     "iopub.status.busy": "2024-12-26T02:13:22.946854Z",
     "iopub.execute_input": "2024-12-26T02:13:22.947187Z",
     "iopub.status.idle": "2024-12-26T02:13:22.954475Z",
     "shell.execute_reply.started": "2024-12-26T02:13:22.947162Z",
     "shell.execute_reply": "2024-12-26T02:13:22.953580Z"
    }
   },
   "outputs": [],
   "execution_count": 10
  },
  {
   "cell_type": "code",
   "source": "input_shape = (IMAGE_SIZE, IMAGE_SIZE, CHANNELS)  # (128, 128, 3)\n\nmodel = models.Sequential([\n    layers.Input(shape=input_shape),  # No batch size specified\n    resize_and_rescale,\n    layers.Conv2D(32, kernel_size=(3, 3), activation='relu', padding='same'),\n    layers.MaxPooling2D((2, 2)),\n    layers.Conv2D(64, kernel_size=(3, 3), activation='relu', padding='same'),\n    layers.MaxPooling2D((2, 2)),\n    layers.Conv2D(64, kernel_size=(3, 3), activation='relu', padding='same'),\n    layers.MaxPooling2D((2, 2)),\n    layers.Conv2D(64, (3, 3), activation='relu', padding='same'),\n    layers.MaxPooling2D((2, 2)),\n    layers.Conv2D(64, (3, 3), activation='relu', padding='same'),\n    layers.MaxPooling2D((2, 2)),\n    layers.Flatten(),\n    layers.Dense(84, activation='relu'),\n    layers.Dense(84, activation='softmax'),\n])\n",
   "metadata": {
    "trusted": true,
    "execution": {
     "iopub.status.busy": "2024-12-26T02:13:24.086011Z",
     "iopub.execute_input": "2024-12-26T02:13:24.086325Z",
     "iopub.status.idle": "2024-12-26T02:13:24.186167Z",
     "shell.execute_reply.started": "2024-12-26T02:13:24.086299Z",
     "shell.execute_reply": "2024-12-26T02:13:24.185389Z"
    }
   },
   "outputs": [],
   "execution_count": 11
  },
  {
   "cell_type": "code",
   "source": "model.compile(\n    optimizer='adam',\n    loss=keras.losses.SparseCategoricalCrossentropy(from_logits=False),\n    metrics=['accuracy']\n)",
   "metadata": {
    "trusted": true,
    "execution": {
     "iopub.status.busy": "2024-12-26T02:13:25.058861Z",
     "iopub.execute_input": "2024-12-26T02:13:25.059167Z",
     "iopub.status.idle": "2024-12-26T02:13:25.072406Z",
     "shell.execute_reply.started": "2024-12-26T02:13:25.059143Z",
     "shell.execute_reply": "2024-12-26T02:13:25.071490Z"
    }
   },
   "outputs": [],
   "execution_count": 12
  },
  {
   "cell_type": "code",
   "source": "history = model.fit(\n    train , \n    batch_size=BATCH_SIZE,# Ensure the batch size is specified here\n    validation_data=validation,\n    epochs=5\n)\n",
   "metadata": {
    "trusted": true,
    "execution": {
     "iopub.status.busy": "2024-12-26T02:13:25.937676Z",
     "iopub.execute_input": "2024-12-26T02:13:25.937986Z",
     "iopub.status.idle": "2024-12-26T02:27:30.748524Z",
     "shell.execute_reply.started": "2024-12-26T02:13:25.937962Z",
     "shell.execute_reply": "2024-12-26T02:27:30.747455Z"
    }
   },
   "outputs": [
    {
     "name": "stdout",
     "text": "Epoch 1/5\n\u001B[1m69102/69102\u001B[0m \u001B[32m━━━━━━━━━━━━━━━━━━━━\u001B[0m\u001B[37m\u001B[0m \u001B[1m181s\u001B[0m 2ms/step - accuracy: 0.5079 - loss: 1.8570 - val_accuracy: 0.8276 - val_loss: 0.5675\nEpoch 2/5\n\u001B[1m69102/69102\u001B[0m \u001B[32m━━━━━━━━━━━━━━━━━━━━\u001B[0m\u001B[37m\u001B[0m \u001B[1m167s\u001B[0m 2ms/step - accuracy: 0.8087 - loss: 0.6297 - val_accuracy: 0.8475 - val_loss: 0.5076\nEpoch 3/5\n\u001B[1m69102/69102\u001B[0m \u001B[32m━━━━━━━━━━━━━━━━━━━━\u001B[0m\u001B[37m\u001B[0m \u001B[1m166s\u001B[0m 2ms/step - accuracy: 0.8212 - loss: 0.6007 - val_accuracy: 0.7912 - val_loss: 0.7019\nEpoch 4/5\n\u001B[1m69102/69102\u001B[0m \u001B[32m━━━━━━━━━━━━━━━━━━━━\u001B[0m\u001B[37m\u001B[0m \u001B[1m165s\u001B[0m 2ms/step - accuracy: 0.8211 - loss: 0.6090 - val_accuracy: 0.8467 - val_loss: 0.5022\nEpoch 5/5\n\u001B[1m69102/69102\u001B[0m \u001B[32m━━━━━━━━━━━━━━━━━━━━\u001B[0m\u001B[37m\u001B[0m \u001B[1m166s\u001B[0m 2ms/step - accuracy: 0.8219 - loss: 0.6186 - val_accuracy: 0.8264 - val_loss: 0.6500\n",
     "output_type": "stream"
    }
   ],
   "execution_count": 13
  },
  {
   "cell_type": "code",
   "source": "scores = model.evaluate(test)\n",
   "metadata": {
    "trusted": true,
    "execution": {
     "iopub.status.busy": "2024-12-26T02:28:04.315261Z",
     "iopub.execute_input": "2024-12-26T02:28:04.315602Z",
     "iopub.status.idle": "2024-12-26T02:28:24.777122Z",
     "shell.execute_reply.started": "2024-12-26T02:28:04.315570Z",
     "shell.execute_reply": "2024-12-26T02:28:24.776408Z"
    }
   },
   "outputs": [
    {
     "name": "stdout",
     "text": "\u001B[1m8639/8639\u001B[0m \u001B[32m━━━━━━━━━━━━━━━━━━━━\u001B[0m\u001B[37m\u001B[0m \u001B[1m20s\u001B[0m 1ms/step - accuracy: 0.8070 - loss: 0.7040\n",
     "output_type": "stream"
    }
   ],
   "execution_count": 15
  },
  {
   "cell_type": "code",
   "source": "acc = history.history['accuracy']\nval_acc = history.history['val_accuracy']\n\nloss = history.history['loss']\nval_loss = history.history['val_loss']",
   "metadata": {
    "trusted": true,
    "execution": {
     "iopub.status.busy": "2024-12-26T02:29:44.811981Z",
     "iopub.execute_input": "2024-12-26T02:29:44.812329Z",
     "iopub.status.idle": "2024-12-26T02:29:44.816758Z",
     "shell.execute_reply.started": "2024-12-26T02:29:44.812302Z",
     "shell.execute_reply": "2024-12-26T02:29:44.815759Z"
    }
   },
   "outputs": [],
   "execution_count": 16
  },
  {
   "cell_type": "code",
   "source": "class_names = data.class_names",
   "metadata": {
    "trusted": true,
    "execution": {
     "iopub.status.busy": "2024-12-26T02:31:05.156447Z",
     "iopub.execute_input": "2024-12-26T02:31:05.156809Z",
     "iopub.status.idle": "2024-12-26T02:31:05.161028Z",
     "shell.execute_reply.started": "2024-12-26T02:31:05.156774Z",
     "shell.execute_reply": "2024-12-26T02:31:05.159722Z"
    }
   },
   "outputs": [],
   "execution_count": 21
  },
  {
   "cell_type": "code",
   "source": "import numpy as np\nfor images_batch, labels_batch in test.take(1):\n    \n    first_image = images_batch[0].numpy().astype('uint8')\n    first_label = labels_batch[0].numpy()\n    \n    print(\"first image to predict\")\n    plt.imshow(first_image)\n    print(\"actual label:\",class_names[first_label])\n    \n    batch_prediction = model.predict(images_batch)\n    print(\"predicted label:\",class_names[np.argmax(batch_prediction[0])])",
   "metadata": {
    "trusted": true,
    "execution": {
     "iopub.status.busy": "2024-12-26T02:33:06.001825Z",
     "iopub.execute_input": "2024-12-26T02:33:06.002201Z",
     "iopub.status.idle": "2024-12-26T02:33:06.339969Z",
     "shell.execute_reply.started": "2024-12-26T02:33:06.002167Z",
     "shell.execute_reply": "2024-12-26T02:33:06.339010Z"
    }
   },
   "outputs": [
    {
     "name": "stdout",
     "text": "first image to predict\nactual label: 7A B\n\u001B[1m1/1\u001B[0m \u001B[32m━━━━━━━━━━━━━━━━━━━━\u001B[0m\u001B[37m\u001B[0m \u001B[1m0s\u001B[0m 18ms/step\npredicted label: dal_I\n",
     "output_type": "stream"
    },
    {
     "output_type": "display_data",
     "data": {
      "text/plain": "<Figure size 640x480 with 1 Axes>",
      "image/png": "[encoded data removed]"
     },
     "metadata": {}
    }
   ],
   "execution_count": 41
  },
  {
   "cell_type": "code",
   "source": "",
   "metadata": {
    "trusted": true
   },
   "outputs": [],
   "execution_count": null
  },
  {
   "cell_type": "code",
   "source": "",
   "metadata": {
    "trusted": true
   },
   "outputs": [],
   "execution_count": null
  }
 ]
}
