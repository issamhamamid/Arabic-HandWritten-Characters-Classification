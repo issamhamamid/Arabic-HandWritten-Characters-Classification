{
 "cells": [
  {
   "cell_type": "code",
   "id": "initial_id",
   "metadata": {
    "collapsed": true,
    "ExecuteTime": {
     "end_time": "2024-12-23T22:13:12.380778Z",
     "start_time": "2024-12-23T22:13:12.297337Z"
    }
   },
   "source": [
    "import os\n",
    "import shutil\n",
    "\n",
    "def move_to_new_parent_dir(old_parent_dir, new_parent_dir):\n",
    "    # Create the new parent directory if it doesn't exist\n",
    "    os.makedirs(new_parent_dir, exist_ok=True)\n",
    "\n",
    "    # Iterate through all subdirectories in the old parent directory\n",
    "    for subdir in os.listdir(old_parent_dir):\n",
    "        subdir_path = os.path.join(old_parent_dir, subdir)\n",
    "        \n",
    "        if os.path.isdir(subdir_path):\n",
    "            for root, dirs, files in os.walk(subdir_path, topdown=True):\n",
    "                # Calculate the relative path within the subdir\n",
    "                relative_path = os.path.relpath(root, subdir_path)\n",
    "                \n",
    "                # Create the corresponding directory in the new parent directory\n",
    "                target_path = os.path.join(new_parent_dir, relative_path)\n",
    "                os.makedirs(target_path, exist_ok=True)\n",
    "                \n",
    "                # Move files to the new target directory\n",
    "                for file in files:\n",
    "                    src_file = os.path.join(root, file)\n",
    "                    dest_file = os.path.join(target_path, file)\n",
    "                    shutil.move(src_file, dest_file)\n",
    "                \n",
    "                # Move subdirectories to the new target directory\n",
    "                for dir_name in dirs:\n",
    "                    src_dir = os.path.join(root, dir_name)\n",
    "                    dest_dir = os.path.join(target_path, dir_name)\n",
    "                    shutil.move(src_dir, dest_dir)\n",
    "\n",
    "# Usage example\n",
    "old_parent_dir = \"DATA MLA FINALE\"\n",
    "new_parent_dir = \"DATA MLA FINALE AFTER\"\n",
    "move_to_new_parent_dir(old_parent_dir, new_parent_dir)\n"
   ],
   "outputs": [],
   "execution_count": 2
  },
  {
   "metadata": {},
   "cell_type": "code",
   "outputs": [],
   "execution_count": null,
   "source": "",
   "id": "fcc24d864c550335"
  }
 ],
 "metadata": {
  "kernelspec": {
   "display_name": "Python 3",
   "language": "python",
   "name": "python3"
  },
  "language_info": {
   "codemirror_mode": {
    "name": "ipython",
    "version": 2
   },
   "file_extension": ".py",
   "mimetype": "text/x-python",
   "name": "python",
   "nbconvert_exporter": "python",
   "pygments_lexer": "ipython2",
   "version": "2.7.6"
  }
 },
 "nbformat": 4,
 "nbformat_minor": 5
}
